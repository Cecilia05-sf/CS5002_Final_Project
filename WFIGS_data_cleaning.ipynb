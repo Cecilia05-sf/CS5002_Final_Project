{
 "cells": [
  {
   "cell_type": "code",
   "execution_count": 52,
   "metadata": {},
   "outputs": [],
   "source": [
    "import pandas as pd\n",
    "import seaborn as sns\n",
    "import matplotlib.pyplot as plt\n",
    "%matplotlib inline"
   ]
  },
  {
   "cell_type": "code",
   "execution_count": 3,
   "metadata": {},
   "outputs": [
    {
     "name": "stdout",
     "output_type": "stream",
     "text": [
      "<class 'pandas.core.frame.DataFrame'>\n",
      "RangeIndex: 39530 entries, 0 to 39529\n",
      "Data columns (total 96 columns):\n",
      " #   Column                           Non-Null Count  Dtype              \n",
      "---  ------                           --------------  -----              \n",
      " 0   X                                39530 non-null  float64            \n",
      " 1   Y                                39530 non-null  float64            \n",
      " 2   OBJECTID                         39530 non-null  int64              \n",
      " 3   ABCDMisc                         2270 non-null   object             \n",
      " 4   ADSPermissionState               39530 non-null  object             \n",
      " 5   CalculatedAcres                  549 non-null    float64            \n",
      " 6   ContainmentDateTime              24273 non-null  object             \n",
      " 7   ControlDateTime                  20704 non-null  object             \n",
      " 8   DailyAcres                       30105 non-null  float64            \n",
      " 9   DiscoveryAcres                   34824 non-null  float64            \n",
      " 10  DispatchCenterID                 39530 non-null  object             \n",
      " 11  EstimatedCostToDate              1794 non-null   float64            \n",
      " 12  FinalFireReportApprovedByTitle   0 non-null      float64            \n",
      " 13  FinalFireReportApprovedByUnit    0 non-null      float64            \n",
      " 14  FinalFireReportApprovedDate      495 non-null    object             \n",
      " 15  FireBehaviorGeneral              3101 non-null   object             \n",
      " 16  FireBehaviorGeneral1             557 non-null    object             \n",
      " 17  FireBehaviorGeneral2             1043 non-null   object             \n",
      " 18  FireBehaviorGeneral3             600 non-null    object             \n",
      " 19  FireCause                        35762 non-null  object             \n",
      " 20  FireCauseGeneral                 4279 non-null   object             \n",
      " 21  FireCauseSpecific                1171 non-null   object             \n",
      " 22  FireCode                         14502 non-null  object             \n",
      " 23  FireDepartmentID                 1626 non-null   object             \n",
      " 24  FireDiscoveryDateTime            39530 non-null  datetime64[ns, UTC]\n",
      " 25  FireMgmtComplexity               3914 non-null   object             \n",
      " 26  FireOutDateTime                  18076 non-null  object             \n",
      " 27  FireStrategyConfinePercent       1732 non-null   float64            \n",
      " 28  FireStrategyFullSuppPercent      1732 non-null   float64            \n",
      " 29  FireStrategyMonitorPercent       1732 non-null   float64            \n",
      " 30  FireStrategyPointZonePercent     1732 non-null   float64            \n",
      " 31  FSJobCode                        10561 non-null  object             \n",
      " 32  FSOverrideCode                   10429 non-null  object             \n",
      " 33  GACC                             39529 non-null  object             \n",
      " 34  ICS209ReportDateTime             1696 non-null   object             \n",
      " 35  ICS209ReportForTimePeriodFrom    1747 non-null   object             \n",
      " 36  ICS209ReportForTimePeriodTo      1747 non-null   object             \n",
      " 37  ICS209ReportStatus               1747 non-null   object             \n",
      " 38  IncidentManagementOrganization   1742 non-null   object             \n",
      " 39  IncidentName                     39529 non-null  object             \n",
      " 40  IncidentShortDescription         1748 non-null   object             \n",
      " 41  IncidentTypeCategory             39530 non-null  object             \n",
      " 42  IncidentTypeKind                 39530 non-null  object             \n",
      " 43  InitialLatitude                  32660 non-null  float64            \n",
      " 44  InitialLongitude                 32660 non-null  float64            \n",
      " 45  InitialResponseAcres             12273 non-null  float64            \n",
      " 46  InitialResponseDateTime          1248 non-null   object             \n",
      " 47  IrwinID                          39530 non-null  object             \n",
      " 48  IsFireCauseInvestigated          714 non-null    float64            \n",
      " 49  IsFireCodeRequested              39530 non-null  int64              \n",
      " 50  IsFSAssisted                     29059 non-null  float64            \n",
      " 51  IsMultiJurisdictional            26279 non-null  float64            \n",
      " 52  IsReimbursable                   26651 non-null  float64            \n",
      " 53  IsTrespass                       26503 non-null  float64            \n",
      " 54  IsUnifiedCommand                 3655 non-null   float64            \n",
      " 55  LocalIncidentIdentifier          39530 non-null  object             \n",
      " 56  PercentContained                 3642 non-null   float64            \n",
      " 57  PercentPerimeterToBeContained    1790 non-null   float64            \n",
      " 58  POOCity                          953 non-null    object             \n",
      " 59  POOCounty                        39530 non-null  object             \n",
      " 60  POODispatchCenterID              39529 non-null  object             \n",
      " 61  POOFips                          39530 non-null  object             \n",
      " 62  POOJurisdictionalAgency          16767 non-null  object             \n",
      " 63  POOJurisdictionalUnit            16792 non-null  object             \n",
      " 64  POOJurisdictionalUnitParentUnit  0 non-null      float64            \n",
      " 65  POOLandownerCategory             39526 non-null  object             \n",
      " 66  POOLandownerKind                 39526 non-null  object             \n",
      " 67  POOLegalDescPrincipalMeridian    172 non-null    object             \n",
      " 68  POOLegalDescQtr                  44 non-null     object             \n",
      " 69  POOLegalDescQtrQtr               40 non-null     object             \n",
      " 70  POOLegalDescRange                168 non-null    object             \n",
      " 71  POOLegalDescSection              168 non-null    float64            \n",
      " 72  POOLegalDescTownship             168 non-null    object             \n",
      " 73  POOPredictiveServiceAreaID       39528 non-null  object             \n",
      " 74  POOProtectingAgency              39245 non-null  object             \n",
      " 75  POOProtectingUnit                39530 non-null  object             \n",
      " 76  POOState                         39530 non-null  object             \n",
      " 77  PredominantFuelGroup             737 non-null    object             \n",
      " 78  PredominantFuelModel             847 non-null    object             \n",
      " 79  PrimaryFuelModel                 3145 non-null   object             \n",
      " 80  SecondaryFuelModel               1066 non-null   object             \n",
      " 81  TotalIncidentPersonnel           1472 non-null   float64            \n",
      " 82  UniqueFireIdentifier             39530 non-null  object             \n",
      " 83  WFDSSDecisionStatus              39530 non-null  object             \n",
      " 84  CreatedBySystem                  39530 non-null  object             \n",
      " 85  ModifiedBySystem                 39530 non-null  object             \n",
      " 86  IsDispatchComplete               39530 non-null  int64              \n",
      " 87  OrganizationalAssessment         448 non-null    object             \n",
      " 88  StrategicDecisionPublishDate     425 non-null    object             \n",
      " 89  CreatedOnDateTime_dt             39530 non-null  object             \n",
      " 90  ModifiedOnDateTime_dt            39530 non-null  object             \n",
      " 91  Source                           39530 non-null  object             \n",
      " 92  GlobalID                         39530 non-null  object             \n",
      " 93  IsCpxChild                       39486 non-null  float64            \n",
      " 94  CpxName                          167 non-null    object             \n",
      " 95  CpxID                            167 non-null    object             \n",
      "dtypes: datetime64[ns, UTC](1), float64(27), int64(3), object(65)\n",
      "memory usage: 29.0+ MB\n"
     ]
    },
    {
     "name": "stderr",
     "output_type": "stream",
     "text": [
      "/var/folders/xb/3kyhyk0s6zv0y_tv20yntjcr0000gn/T/ipykernel_47437/2534031542.py:1: DtypeWarning: Columns (14,32,61,77) have mixed types. Specify dtype option on import or set low_memory=False.\n",
      "  df = pd.read_csv('WFIGS_-_2022_Wildland_Fire_Locations_to_Date.csv', na_values=[''], converters={'FireDiscoveryDateTime': pd.to_datetime})\n"
     ]
    }
   ],
   "source": [
    "df = pd.read_csv('WFIGS_-_2022_Wildland_Fire_Locations_to_Date.csv', na_values=[''], converters={'FireDiscoveryDateTime': pd.to_datetime})\n",
    "df.info()"
   ]
  },
  {
   "cell_type": "code",
   "execution_count": 16,
   "metadata": {},
   "outputs": [
    {
     "name": "stdout",
     "output_type": "stream",
     "text": [
      "<class 'pandas.core.frame.DataFrame'>\n",
      "Int64Index: 13731 entries, 1 to 39527\n",
      "Data columns (total 6 columns):\n",
      " #   Column                 Non-Null Count  Dtype              \n",
      "---  ------                 --------------  -----              \n",
      " 0   FireDiscoveryDateTime  13731 non-null  datetime64[ns, UTC]\n",
      " 1   IncidentName           13731 non-null  object             \n",
      " 2   DiscoveryAcres         13266 non-null  float64            \n",
      " 3   IncidentTypeCategory   13731 non-null  object             \n",
      " 4   POOCounty              13731 non-null  object             \n",
      " 5   POODispatchCenterID    13731 non-null  object             \n",
      "dtypes: datetime64[ns, UTC](1), float64(1), object(4)\n",
      "memory usage: 750.9+ KB\n"
     ]
    }
   ],
   "source": [
    "new_df = df. filter(['FireDiscoveryDateTime', 'IncidentName','DiscoveryAcres', 'IncidentTypeCategory', 'POOCounty', 'POODispatchCenterID'])\n",
    "CA_df = new_df[new_df['POODispatchCenterID'].str.startswith('CA', na=False)]\n",
    "CA_df.info()"
   ]
  },
  {
   "cell_type": "code",
   "execution_count": 17,
   "metadata": {},
   "outputs": [
    {
     "data": {
      "text/plain": [
       "Riverside         3647\n",
       "Los Angeles       2822\n",
       "Fresno             630\n",
       "San Bernardino     427\n",
       "Merced             387\n",
       "                  ... \n",
       "Douglas              4\n",
       "Kauai                3\n",
       "Jackson              2\n",
       "Honolulu             1\n",
       "Carson City          1\n",
       "Name: POOCounty, Length: 66, dtype: int64"
      ]
     },
     "execution_count": 17,
     "metadata": {},
     "output_type": "execute_result"
    }
   ],
   "source": [
    "CA_df['POOCounty'].value_counts()"
   ]
  },
  {
   "cell_type": "code",
   "execution_count": 9,
   "metadata": {},
   "outputs": [
    {
     "name": "stderr",
     "output_type": "stream",
     "text": [
      "/var/folders/xb/3kyhyk0s6zv0y_tv20yntjcr0000gn/T/ipykernel_47437/1981588489.py:1: DtypeWarning: Columns (13,14,16,32,61,64,68,69,77,78,94,95) have mixed types. Specify dtype option on import or set low_memory=False.\n",
      "  df_historical_data = pd.read_csv('WFIGS_-_Wildland_Fire_Locations_Full_History.csv', na_values=[''], converters={'FireDiscoveryDateTime': pd.to_datetime})\n"
     ]
    },
    {
     "name": "stdout",
     "output_type": "stream",
     "text": [
      "<class 'pandas.core.frame.DataFrame'>\n",
      "RangeIndex: 246580 entries, 0 to 246579\n",
      "Data columns (total 96 columns):\n",
      " #   Column                           Non-Null Count   Dtype              \n",
      "---  ------                           --------------   -----              \n",
      " 0   X                                246580 non-null  float64            \n",
      " 1   Y                                246580 non-null  float64            \n",
      " 2   OBJECTID                         246580 non-null  int64              \n",
      " 3   ABCDMisc                         12940 non-null   object             \n",
      " 4   ADSPermissionState               246580 non-null  object             \n",
      " 5   CalculatedAcres                  5349 non-null    float64            \n",
      " 6   ContainmentDateTime              149988 non-null  object             \n",
      " 7   ControlDateTime                  135647 non-null  object             \n",
      " 8   DailyAcres                       171896 non-null  float64            \n",
      " 9   DiscoveryAcres                   182417 non-null  float64            \n",
      " 10  DispatchCenterID                 209202 non-null  object             \n",
      " 11  EstimatedCostToDate              14651 non-null   float64            \n",
      " 12  FinalFireReportApprovedByTitle   0 non-null       float64            \n",
      " 13  FinalFireReportApprovedByUnit    2616 non-null    object             \n",
      " 14  FinalFireReportApprovedDate      33304 non-null   object             \n",
      " 15  FireBehaviorGeneral              15505 non-null   object             \n",
      " 16  FireBehaviorGeneral1             7171 non-null    object             \n",
      " 17  FireBehaviorGeneral2             5961 non-null    object             \n",
      " 18  FireBehaviorGeneral3             3839 non-null    object             \n",
      " 19  FireCause                        216484 non-null  object             \n",
      " 20  FireCauseGeneral                 54039 non-null   object             \n",
      " 21  FireCauseSpecific                14649 non-null   object             \n",
      " 22  FireCode                         126962 non-null  object             \n",
      " 23  FireDepartmentID                 10311 non-null   object             \n",
      " 24  FireDiscoveryDateTime            246580 non-null  datetime64[ns, UTC]\n",
      " 25  FireMgmtComplexity               21316 non-null   object             \n",
      " 26  FireOutDateTime                  143873 non-null  object             \n",
      " 27  FireStrategyConfinePercent       7220 non-null    float64            \n",
      " 28  FireStrategyFullSuppPercent      9416 non-null    float64            \n",
      " 29  FireStrategyMonitorPercent       7329 non-null    float64            \n",
      " 30  FireStrategyPointZonePercent     6954 non-null    float64            \n",
      " 31  FSJobCode                        66725 non-null   object             \n",
      " 32  FSOverrideCode                   66067 non-null   object             \n",
      " 33  GACC                             246521 non-null  object             \n",
      " 34  ICS209ReportDateTime             12945 non-null   object             \n",
      " 35  ICS209ReportForTimePeriodFrom    12620 non-null   object             \n",
      " 36  ICS209ReportForTimePeriodTo      12601 non-null   object             \n",
      " 37  ICS209ReportStatus               13712 non-null   object             \n",
      " 38  IncidentManagementOrganization   12137 non-null   object             \n",
      " 39  IncidentName                     246571 non-null  object             \n",
      " 40  IncidentShortDescription         9443 non-null    object             \n",
      " 41  IncidentTypeCategory             246580 non-null  object             \n",
      " 42  IncidentTypeKind                 246580 non-null  object             \n",
      " 43  InitialLatitude                  180683 non-null  float64            \n",
      " 44  InitialLongitude                 180683 non-null  float64            \n",
      " 45  InitialResponseAcres             86365 non-null   float64            \n",
      " 46  InitialResponseDateTime          30387 non-null   object             \n",
      " 47  IrwinID                          246580 non-null  object             \n",
      " 48  IsFireCauseInvestigated          11293 non-null   float64            \n",
      " 49  IsFireCodeRequested              246580 non-null  int64              \n",
      " 50  IsFSAssisted                     189486 non-null  float64            \n",
      " 51  IsMultiJurisdictional            179962 non-null  float64            \n",
      " 52  IsReimbursable                   183605 non-null  float64            \n",
      " 53  IsTrespass                       182912 non-null  float64            \n",
      " 54  IsUnifiedCommand                 9982 non-null    float64            \n",
      " 55  LocalIncidentIdentifier          246580 non-null  object             \n",
      " 56  PercentContained                 20969 non-null   float64            \n",
      " 57  PercentPerimeterToBeContained    8993 non-null    float64            \n",
      " 58  POOCity                          5655 non-null    object             \n",
      " 59  POOCounty                        246419 non-null  object             \n",
      " 60  POODispatchCenterID              168946 non-null  object             \n",
      " 61  POOFips                          246412 non-null  object             \n",
      " 62  POOJurisdictionalAgency          104680 non-null  object             \n",
      " 63  POOJurisdictionalUnit            159751 non-null  object             \n",
      " 64  POOJurisdictionalUnitParentUnit  3 non-null       object             \n",
      " 65  POOLandownerCategory             178831 non-null  object             \n",
      " 66  POOLandownerKind                 179644 non-null  object             \n",
      " 67  POOLegalDescPrincipalMeridian    2291 non-null    object             \n",
      " 68  POOLegalDescQtr                  1048 non-null    object             \n",
      " 69  POOLegalDescQtrQtr               971 non-null     object             \n",
      " 70  POOLegalDescRange                2243 non-null    object             \n",
      " 71  POOLegalDescSection              2245 non-null    float64            \n",
      " 72  POOLegalDescTownship             2243 non-null    object             \n",
      " 73  POOPredictiveServiceAreaID       217234 non-null  object             \n",
      " 74  POOProtectingAgency              197654 non-null  object             \n",
      " 75  POOProtectingUnit                246580 non-null  object             \n",
      " 76  POOState                         246580 non-null  object             \n",
      " 77  PredominantFuelGroup             34314 non-null   object             \n",
      " 78  PredominantFuelModel             33709 non-null   object             \n",
      " 79  PrimaryFuelModel                 15945 non-null   object             \n",
      " 80  SecondaryFuelModel               6441 non-null    object             \n",
      " 81  TotalIncidentPersonnel           11139 non-null   float64            \n",
      " 82  UniqueFireIdentifier             246580 non-null  object             \n",
      " 83  WFDSSDecisionStatus              167251 non-null  object             \n",
      " 84  CreatedBySystem                  246580 non-null  object             \n",
      " 85  ModifiedBySystem                 246580 non-null  object             \n",
      " 86  IsDispatchComplete               246580 non-null  int64              \n",
      " 87  OrganizationalAssessment         1950 non-null    object             \n",
      " 88  StrategicDecisionPublishDate     1833 non-null    object             \n",
      " 89  CreatedOnDateTime_dt             246580 non-null  object             \n",
      " 90  ModifiedOnDateTime_dt            246580 non-null  object             \n",
      " 91  Source                           246580 non-null  object             \n",
      " 92  GlobalID                         246580 non-null  object             \n",
      " 93  IsCpxChild                       47266 non-null   float64            \n",
      " 94  CpxName                          676 non-null     object             \n",
      " 95  CpxID                            676 non-null     object             \n",
      "dtypes: datetime64[ns, UTC](1), float64(25), int64(3), object(67)\n",
      "memory usage: 180.6+ MB\n"
     ]
    }
   ],
   "source": [
    "df_historical_data = pd.read_csv('WFIGS_-_Wildland_Fire_Locations_Full_History.csv', na_values=[''], converters={'FireDiscoveryDateTime': pd.to_datetime})\n",
    "df_historical_data.info()"
   ]
  },
  {
   "cell_type": "code",
   "execution_count": 13,
   "metadata": {},
   "outputs": [
    {
     "data": {
      "text/html": [
       "<div>\n",
       "<style scoped>\n",
       "    .dataframe tbody tr th:only-of-type {\n",
       "        vertical-align: middle;\n",
       "    }\n",
       "\n",
       "    .dataframe tbody tr th {\n",
       "        vertical-align: top;\n",
       "    }\n",
       "\n",
       "    .dataframe thead th {\n",
       "        text-align: right;\n",
       "    }\n",
       "</style>\n",
       "<table border=\"1\" class=\"dataframe\">\n",
       "  <thead>\n",
       "    <tr style=\"text-align: right;\">\n",
       "      <th></th>\n",
       "      <th>FireDiscoveryDateTime</th>\n",
       "      <th>DiscoveryAcres</th>\n",
       "      <th>IncidentName</th>\n",
       "      <th>IncidentTypeCategory</th>\n",
       "      <th>POOCounty</th>\n",
       "      <th>POODispatchCenterID</th>\n",
       "    </tr>\n",
       "  </thead>\n",
       "  <tbody>\n",
       "    <tr>\n",
       "      <th>1</th>\n",
       "      <td>2020-02-28 20:45:40+00:00</td>\n",
       "      <td>0.1</td>\n",
       "      <td>LAC-066100</td>\n",
       "      <td>WF</td>\n",
       "      <td>Los Angeles</td>\n",
       "      <td>CALACC</td>\n",
       "    </tr>\n",
       "    <tr>\n",
       "      <th>3</th>\n",
       "      <td>2019-07-01 19:54:00+00:00</td>\n",
       "      <td>NaN</td>\n",
       "      <td>SYCAMORE</td>\n",
       "      <td>WF</td>\n",
       "      <td>San Diego</td>\n",
       "      <td>CAMVIC</td>\n",
       "    </tr>\n",
       "    <tr>\n",
       "      <th>23</th>\n",
       "      <td>2020-08-15 18:31:58+00:00</td>\n",
       "      <td>0.1</td>\n",
       "      <td>SOUTH FORK</td>\n",
       "      <td>WF</td>\n",
       "      <td>Siskiyou</td>\n",
       "      <td>CAYICC</td>\n",
       "    </tr>\n",
       "    <tr>\n",
       "      <th>41</th>\n",
       "      <td>2019-09-05 16:39:50+00:00</td>\n",
       "      <td>0.1</td>\n",
       "      <td>MARTIN 2</td>\n",
       "      <td>WF</td>\n",
       "      <td>Siskiyou</td>\n",
       "      <td>CAYICC</td>\n",
       "    </tr>\n",
       "    <tr>\n",
       "      <th>42</th>\n",
       "      <td>2020-05-06 19:10:01+00:00</td>\n",
       "      <td>0.1</td>\n",
       "      <td>CAVE</td>\n",
       "      <td>WF</td>\n",
       "      <td>Calaveras</td>\n",
       "      <td>CATCCC</td>\n",
       "    </tr>\n",
       "  </tbody>\n",
       "</table>\n",
       "</div>"
      ],
      "text/plain": [
       "       FireDiscoveryDateTime  DiscoveryAcres IncidentName  \\\n",
       "1  2020-02-28 20:45:40+00:00             0.1   LAC-066100   \n",
       "3  2019-07-01 19:54:00+00:00             NaN     SYCAMORE   \n",
       "23 2020-08-15 18:31:58+00:00             0.1   SOUTH FORK   \n",
       "41 2019-09-05 16:39:50+00:00             0.1     MARTIN 2   \n",
       "42 2020-05-06 19:10:01+00:00             0.1         CAVE   \n",
       "\n",
       "   IncidentTypeCategory    POOCounty POODispatchCenterID  \n",
       "1                    WF  Los Angeles              CALACC  \n",
       "3                    WF    San Diego              CAMVIC  \n",
       "23                   WF     Siskiyou              CAYICC  \n",
       "41                   WF     Siskiyou              CAYICC  \n",
       "42                   WF    Calaveras              CATCCC  "
      ]
     },
     "execution_count": 13,
     "metadata": {},
     "output_type": "execute_result"
    }
   ],
   "source": [
    "new_his_df = df_historical_data. filter(['FireDiscoveryDateTime', 'DiscoveryAcres','IncidentName', 'IncidentTypeCategory', 'POOCounty', 'POODispatchCenterID'])\n",
    "CA_his_df = new_his_df[new_his_df['POODispatchCenterID'].str.startswith('CA', na=False)]\n",
    "CA_his_df.head()"
   ]
  },
  {
   "cell_type": "code",
   "execution_count": 14,
   "metadata": {},
   "outputs": [
    {
     "data": {
      "text/plain": [
       "Los Angeles       14034\n",
       "Riverside          6937\n",
       "San Bernardino     1630\n",
       "Fresno             1511\n",
       "San Diego          1339\n",
       "                  ...  \n",
       "Kauai                 3\n",
       "Carson City           2\n",
       "Curry                 1\n",
       "Klamath               1\n",
       "Esmeralda             1\n",
       "Name: POOCounty, Length: 71, dtype: int64"
      ]
     },
     "execution_count": 14,
     "metadata": {},
     "output_type": "execute_result"
    }
   ],
   "source": [
    "CA_his_df['POOCounty'].value_counts()"
   ]
  },
  {
   "cell_type": "code",
   "execution_count": 30,
   "metadata": {},
   "outputs": [
    {
     "data": {
      "text/plain": [
       "Los Angeles       16856\n",
       "Riverside         10584\n",
       "Fresno             2141\n",
       "San Bernardino     2057\n",
       "Shasta             1669\n",
       "                  ...  \n",
       "Carson City           3\n",
       "Maui                  3\n",
       "Curry                 1\n",
       "Klamath               1\n",
       "Esmeralda             1\n",
       "Name: POOCounty, Length: 71, dtype: int64"
      ]
     },
     "execution_count": 30,
     "metadata": {},
     "output_type": "execute_result"
    }
   ],
   "source": [
    "df_fires = pd.concat((CA_his_df, CA_df), axis=0,ignore_index=True)\n",
    "df_fires['POOCounty'].value_counts()"
   ]
  },
  {
   "cell_type": "code",
   "execution_count": 31,
   "metadata": {},
   "outputs": [
    {
     "name": "stdout",
     "output_type": "stream",
     "text": [
      "<class 'pandas.core.frame.DataFrame'>\n",
      "RangeIndex: 61305 entries, 0 to 61304\n",
      "Data columns (total 6 columns):\n",
      " #   Column                 Non-Null Count  Dtype              \n",
      "---  ------                 --------------  -----              \n",
      " 0   FireDiscoveryDateTime  61305 non-null  datetime64[ns, UTC]\n",
      " 1   DiscoveryAcres         56443 non-null  float64            \n",
      " 2   IncidentName           61305 non-null  object             \n",
      " 3   IncidentTypeCategory   61305 non-null  object             \n",
      " 4   POOCounty              61305 non-null  object             \n",
      " 5   POODispatchCenterID    61305 non-null  object             \n",
      "dtypes: datetime64[ns, UTC](1), float64(1), object(4)\n",
      "memory usage: 2.8+ MB\n"
     ]
    }
   ],
   "source": [
    "df_fires.info()"
   ]
  },
  {
   "cell_type": "code",
   "execution_count": 45,
   "metadata": {},
   "outputs": [
    {
     "name": "stdout",
     "output_type": "stream",
     "text": [
      "<class 'pandas.core.frame.DataFrame'>\n",
      "Int64Index: 27440 entries, 0 to 61304\n",
      "Data columns (total 6 columns):\n",
      " #   Column                 Non-Null Count  Dtype              \n",
      "---  ------                 --------------  -----              \n",
      " 0   FireDiscoveryDateTime  27440 non-null  datetime64[ns, UTC]\n",
      " 1   DiscoveryAcres         27109 non-null  float64            \n",
      " 2   IncidentName           27440 non-null  object             \n",
      " 3   IncidentTypeCategory   27440 non-null  object             \n",
      " 4   POOCounty              27440 non-null  object             \n",
      " 5   POODispatchCenterID    27440 non-null  object             \n",
      "dtypes: datetime64[ns, UTC](1), float64(1), object(4)\n",
      "memory usage: 1.5+ MB\n"
     ]
    }
   ],
   "source": [
    "df_LA_RS_fires = df_fires[df_fires['POOCounty'].isin(['Los Angeles', 'Riverside'])]\n",
    "df_LA_RS_fires.info()"
   ]
  },
  {
   "cell_type": "code",
   "execution_count": 67,
   "metadata": {},
   "outputs": [
    {
     "data": {
      "text/plain": [
       "<matplotlib.legend.Legend at 0x2adddbe80>"
      ]
     },
     "execution_count": 67,
     "metadata": {},
     "output_type": "execute_result"
    },
    {
     "data": {
      "image/png": "[encoded data removed]",
      "text/plain": [
       "<Figure size 1000x600 with 1 Axes>"
      ]
     },
     "metadata": {},
     "output_type": "display_data"
    }
   ],
   "source": [
    "fig = plt.figure(figsize=(10,6))\n",
    "sns.set(style=\"darkgrid\")\n",
    "df_LA_fires = df_LA_RS_fires[df_LA_RS_fires.POOCounty == 'Los Angeles']\n",
    "df_RS_fires = df_LA_RS_fires[df_LA_RS_fires.POOCounty == 'Riverside']\n",
    "sns.histplot(df_LA_fires[\"FireDiscoveryDateTime\"], label = 'Los Angeles', kde=True)\n",
    "sns.histplot(df_RS_fires[\"FireDiscoveryDateTime\"], label = 'Riverside', kde=True)\n",
    "plt.legend() "
   ]
  },
  {
   "cell_type": "code",
   "execution_count": 44,
   "metadata": {},
   "outputs": [
    {
     "data": {
      "text/plain": [
       "Timestamp('2022-12-02 22:26:11+0000', tz='UTC')"
      ]
     },
     "execution_count": 44,
     "metadata": {},
     "output_type": "execute_result"
    }
   ],
   "source": [
    "df_LA_RS_fires['FireDiscoveryDateTime'].max()"
   ]
  },
  {
   "cell_type": "code",
   "execution_count": 41,
   "metadata": {},
   "outputs": [
    {
     "data": {
      "text/plain": [
       "800.0"
      ]
     },
     "execution_count": 41,
     "metadata": {},
     "output_type": "execute_result"
    }
   ],
   "source": [
    "df_LA_RS_fires = df_LA_RS_fires[df_LA_RS_fires.DiscoveryAcres < 5000]\n",
    "df_LA_RS_fires['DiscoveryAcres'].max()\n"
   ]
  }
 ],
 "metadata": {
  "kernelspec": {
   "display_name": "Python 3.10.7 64-bit",
   "language": "python",
   "name": "python3"
  },
  "language_info": {
   "codemirror_mode": {
    "name": "ipython",
    "version": 3
   },
   "file_extension": ".py",
   "mimetype": "text/x-python",
   "name": "python",
   "nbconvert_exporter": "python",
   "pygments_lexer": "ipython3",
   "version": "3.10.7"
  },
  "orig_nbformat": 4,
  "vscode": {
   "interpreter": {
    "hash": "aee8b7b246df8f9039afb4144a1f6fd8d2ca17a180786b69acc140d282b71a49"
   }
  }
 },
 "nbformat": 4,
 "nbformat_minor": 2
}
