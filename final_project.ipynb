{
 "cells": [
  {
   "cell_type": "code",
   "execution_count": 2,
   "metadata": {},
   "outputs": [],
   "source": [
    "import pandas as pd\n",
    "import seaborn as sns\n",
    "import matplotlib.pyplot as plt\n",
    "%matplotlib inline"
   ]
  },
  {
   "cell_type": "code",
   "execution_count": 43,
   "metadata": {},
   "outputs": [],
   "source": [
    "df15 = pd.read_excel('Fires_100.xlsx', sheet_name='2015', na_values=['<Null>'],\n",
    "                     converters={'ALARM_DATE_Con': pd.to_datetime, 'CONT_DATE_Conv': pd.to_datetime})\n",
    "df16 = pd.read_excel('Fires_100.xlsx', sheet_name='2016', na_values=['<Null>'],\n",
    "                     converters={'ALARM_DATE': pd.to_datetime, 'CONT_DATE': pd.to_datetime})\n",
    "df17 = pd.read_excel('Fires_100.xlsx', sheet_name='2017', na_values=['<Null>'],\n",
    "                     converters={'ALARM_DATE': pd.to_datetime, 'CONT_DATE': pd.to_datetime})\n"
   ]
  },
  {
   "cell_type": "code",
   "execution_count": 44,
   "metadata": {},
   "outputs": [
    {
     "name": "stdout",
     "output_type": "stream",
     "text": [
      "Index(['YEAR', 'STATE', 'UNIT_ID', 'FIRE_NUM', 'FIRE_NAME', 'AGENCY',\n",
      "       'C_METHOD', 'CAUSE', 'INC_NUM', 'OBJECTIVE', 'COMMENTS', 'REPORT_AC',\n",
      "       'GIS_ACRES', 'Shape_Length', 'Shape_Area', 'ALARM_DATE_Con',\n",
      "       'CONT_DATE_Conv'],\n",
      "      dtype='object')\n",
      "Index(['YEAR', 'STATE', 'AGENCY', 'UNIT_ID', 'FIRE_NAME', 'INC_NUM',\n",
      "       'ALARM_DATE', 'CONT_DATE', 'CAUSE', 'COMMENTS', 'REPORT_AC',\n",
      "       'GIS_ACRES', 'C_METHOD', 'OBJECTIVE'],\n",
      "      dtype='object')\n",
      "Index(['YEAR_', 'STATE', 'AGENCY', 'UNIT_ID', 'FIRE_NAME', 'INC_NUM',\n",
      "       'ALARM_DATE', 'CONT_DATE', 'CAUSE', 'COMMENTS', 'REPORT_AC',\n",
      "       'GIS_ACRES', 'C_METHOD', 'OBJECTIVE'],\n",
      "      dtype='object')\n"
     ]
    }
   ],
   "source": [
    "print(df15.columns)\n",
    "print(df16.columns)\n",
    "print(df17.columns)"
   ]
  },
  {
   "cell_type": "code",
   "execution_count": 45,
   "metadata": {},
   "outputs": [
    {
     "name": "stdout",
     "output_type": "stream",
     "text": [
      "Index(['YEAR', 'STATE', 'UNIT_ID', 'FIRE_NUM', 'FIRE_NAME', 'AGENCY',\n",
      "       'C_METHOD', 'CAUSE', 'INC_NUM', 'OBJECTIVE', 'COMMENTS', 'REPORT_AC',\n",
      "       'GIS_ACRES', 'Shape_Length', 'Shape_Area', 'ALARM_DATE', 'CONT_DATE'],\n",
      "      dtype='object')\n",
      "Index(['YEAR', 'STATE', 'AGENCY', 'UNIT_ID', 'FIRE_NAME', 'INC_NUM',\n",
      "       'ALARM_DATE', 'CONT_DATE', 'CAUSE', 'COMMENTS', 'REPORT_AC',\n",
      "       'GIS_ACRES', 'C_METHOD', 'OBJECTIVE'],\n",
      "      dtype='object')\n",
      "Index(['YEAR', 'STATE', 'AGENCY', 'UNIT_ID', 'FIRE_NAME', 'INC_NUM',\n",
      "       'ALARM_DATE', 'CONT_DATE', 'CAUSE', 'COMMENTS', 'REPORT_AC',\n",
      "       'GIS_ACRES', 'C_METHOD', 'OBJECTIVE'],\n",
      "      dtype='object')\n"
     ]
    }
   ],
   "source": [
    "df15.rename(columns={'ALARM_DATE_Con':'ALARM_DATE','CONT_DATE_Conv':'CONT_DATE'}, inplace=True)\n",
    "df17.rename(columns={'YEAR_': 'YEAR'}, inplace=True)\n",
    "print(df15.columns)\n",
    "print(df16.columns)\n",
    "print(df17.columns)"
   ]
  },
  {
   "cell_type": "code",
   "execution_count": 46,
   "metadata": {},
   "outputs": [
    {
     "data": {
      "text/plain": [
       "Index(['YEAR', 'STATE', 'UNIT_ID', 'FIRE_NAME', 'AGENCY', 'C_METHOD', 'CAUSE',\n",
       "       'INC_NUM', 'OBJECTIVE', 'COMMENTS', 'REPORT_AC', 'GIS_ACRES',\n",
       "       'ALARM_DATE', 'CONT_DATE'],\n",
       "      dtype='object')"
      ]
     },
     "execution_count": 46,
     "metadata": {},
     "output_type": "execute_result"
    }
   ],
   "source": [
    "df15 = df15.drop(columns=['Shape_Length', 'Shape_Area', 'FIRE_NUM'])\n",
    "df15.columns"
   ]
  },
  {
   "cell_type": "code",
   "execution_count": 54,
   "metadata": {},
   "outputs": [
    {
     "name": "stdout",
     "output_type": "stream",
     "text": [
      "<class 'pandas.core.frame.DataFrame'>\n",
      "Int64Index: 23595 entries, 0 to 181\n",
      "Data columns (total 14 columns):\n",
      " #   Column      Non-Null Count  Dtype         \n",
      "---  ------      --------------  -----         \n",
      " 0   YEAR        23527 non-null  float64       \n",
      " 1   STATE       23595 non-null  object        \n",
      " 2   UNIT_ID     23589 non-null  object        \n",
      " 3   FIRE_NAME   23539 non-null  object        \n",
      " 4   AGENCY      23595 non-null  object        \n",
      " 5   C_METHOD    6706 non-null   object        \n",
      " 6   CAUSE       23571 non-null  object        \n",
      " 7   INC_NUM     22720 non-null  object        \n",
      " 8   OBJECTIVE   23483 non-null  object        \n",
      " 9   COMMENTS    3407 non-null   object        \n",
      " 10  REPORT_AC   6982 non-null   float64       \n",
      " 11  GIS_ACRES   23595 non-null  float64       \n",
      " 12  ALARM_DATE  15703 non-null  datetime64[ns]\n",
      " 13  CONT_DATE   6029 non-null   datetime64[ns]\n",
      "dtypes: datetime64[ns](2), float64(3), object(9)\n",
      "memory usage: 2.7+ MB\n"
     ]
    }
   ],
   "source": [
    "df_fires = pd.concat((df15, df16, df17), axis=0)\n",
    "df_fires.info()"
   ]
  },
  {
   "cell_type": "code",
   "execution_count": 55,
   "metadata": {},
   "outputs": [
    {
     "name": "stdout",
     "output_type": "stream",
     "text": [
      "-32862.0 3319.0\n"
     ]
    }
   ],
   "source": [
    "df_fires['DURATION'] = (df_fires['CONT_DATE'] - df_fires['ALARM_DATE']).dt.days\n",
    "print(df_fires['DURATION'].min(), df_fires['DURATION'].max())"
   ]
  },
  {
   "cell_type": "code",
   "execution_count": 57,
   "metadata": {},
   "outputs": [
    {
     "data": {
      "text/html": [
       "<div>\n",
       "<style scoped>\n",
       "    .dataframe tbody tr th:only-of-type {\n",
       "        vertical-align: middle;\n",
       "    }\n",
       "\n",
       "    .dataframe tbody tr th {\n",
       "        vertical-align: top;\n",
       "    }\n",
       "\n",
       "    .dataframe thead th {\n",
       "        text-align: right;\n",
       "    }\n",
       "</style>\n",
       "<table border=\"1\" class=\"dataframe\">\n",
       "  <thead>\n",
       "    <tr style=\"text-align: right;\">\n",
       "      <th></th>\n",
       "      <th>count</th>\n",
       "      <th>mean</th>\n",
       "      <th>std</th>\n",
       "      <th>min</th>\n",
       "      <th>25%</th>\n",
       "      <th>50%</th>\n",
       "      <th>75%</th>\n",
       "      <th>max</th>\n",
       "    </tr>\n",
       "  </thead>\n",
       "  <tbody>\n",
       "    <tr>\n",
       "      <th>YEAR</th>\n",
       "      <td>6002.0</td>\n",
       "      <td>1999.176275</td>\n",
       "      <td>15.168605</td>\n",
       "      <td>1921.0000</td>\n",
       "      <td>1991.0000</td>\n",
       "      <td>2004.0000</td>\n",
       "      <td>2009.00</td>\n",
       "      <td>2018.0</td>\n",
       "    </tr>\n",
       "    <tr>\n",
       "      <th>REPORT_AC</th>\n",
       "      <td>5761.0</td>\n",
       "      <td>4709.847997</td>\n",
       "      <td>19484.289197</td>\n",
       "      <td>0.0000</td>\n",
       "      <td>200.0000</td>\n",
       "      <td>509.0000</td>\n",
       "      <td>2000.00</td>\n",
       "      <td>499945.0</td>\n",
       "    </tr>\n",
       "    <tr>\n",
       "      <th>GIS_ACRES</th>\n",
       "      <td>6002.0</td>\n",
       "      <td>4705.944662</td>\n",
       "      <td>19189.950220</td>\n",
       "      <td>100.0661</td>\n",
       "      <td>209.8011</td>\n",
       "      <td>527.8143</td>\n",
       "      <td>2010.39</td>\n",
       "      <td>501082.0</td>\n",
       "    </tr>\n",
       "    <tr>\n",
       "      <th>DURATION</th>\n",
       "      <td>6002.0</td>\n",
       "      <td>14.082806</td>\n",
       "      <td>29.745412</td>\n",
       "      <td>0.0000</td>\n",
       "      <td>1.0000</td>\n",
       "      <td>3.0000</td>\n",
       "      <td>10.00</td>\n",
       "      <td>377.0</td>\n",
       "    </tr>\n",
       "  </tbody>\n",
       "</table>\n",
       "</div>"
      ],
      "text/plain": [
       "            count         mean           std        min        25%        50%  \\\n",
       "YEAR       6002.0  1999.176275     15.168605  1921.0000  1991.0000  2004.0000   \n",
       "REPORT_AC  5761.0  4709.847997  19484.289197     0.0000   200.0000   509.0000   \n",
       "GIS_ACRES  6002.0  4705.944662  19189.950220   100.0661   209.8011   527.8143   \n",
       "DURATION   6002.0    14.082806     29.745412     0.0000     1.0000     3.0000   \n",
       "\n",
       "               75%       max  \n",
       "YEAR       2009.00    2018.0  \n",
       "REPORT_AC  2000.00  499945.0  \n",
       "GIS_ACRES  2010.39  501082.0  \n",
       "DURATION     10.00     377.0  "
      ]
     },
     "execution_count": 57,
     "metadata": {},
     "output_type": "execute_result"
    }
   ],
   "source": [
    "df_fires = df_fires[(df_fires.DURATION >= 0) & (df_fires.DURATION < 3000)]\n",
    "df_fires.describe().transpose()"
   ]
  },
  {
   "cell_type": "code",
   "execution_count": 63,
   "metadata": {},
   "outputs": [
    {
     "data": {
      "image/png": "[encoded data removed]",
      "text/plain": [
       "<Figure size 1600x600 with 1 Axes>"
      ]
     },
     "metadata": {},
     "output_type": "display_data"
    }
   ],
   "source": [
    "plt.figure(figsize=(16, 6))\n",
    "sns.set(style=\"whitegrid\")\n",
    "g = sns.lineplot(x=\"ALARM_DATE\", y=\"GIS_ACRES\",hue='STATE', data=df_fires[df_fires['STATE']=='California'])"
   ]
  },
  {
   "cell_type": "code",
   "execution_count": 64,
   "metadata": {},
   "outputs": [
    {
     "data": {
      "text/plain": [
       "Sequoia National Forest              371\n",
       "Shasta-Trinity National Forest       249\n",
       "San Bernardino National Forest       232\n",
       "Sequoia - Kings Canyon NP            232\n",
       "Cleveland National Forest            216\n",
       "                                    ... \n",
       "Kern National Wildlife Refuge          2\n",
       "Rouge River- Siskiyou                  2\n",
       "US Army Post FD (Hunter Ligget)        1\n",
       " Northern California District BLM      1\n",
       "APV                                    1\n",
       "Name: UNIT_ID, Length: 104, dtype: int64"
      ]
     },
     "execution_count": 64,
     "metadata": {},
     "output_type": "execute_result"
    }
   ],
   "source": [
    "df_fires['UNIT_ID'].value_counts()"
   ]
  }
 ],
 "metadata": {
  "kernelspec": {
   "display_name": "Python 3.10.7 64-bit",
   "language": "python",
   "name": "python3"
  },
  "language_info": {
   "codemirror_mode": {
    "name": "ipython",
    "version": 3
   },
   "file_extension": ".py",
   "mimetype": "text/x-python",
   "name": "python",
   "nbconvert_exporter": "python",
   "pygments_lexer": "ipython3",
   "version": "3.10.7"
  },
  "orig_nbformat": 4,
  "vscode": {
   "interpreter": {
    "hash": "aee8b7b246df8f9039afb4144a1f6fd8d2ca17a180786b69acc140d282b71a49"
   }
  }
 },
 "nbformat": 4,
 "nbformat_minor": 2
}
